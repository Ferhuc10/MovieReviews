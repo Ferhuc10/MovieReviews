{
 "cells": [
  {
   "cell_type": "code",
   "execution_count": 2,
   "id": "f56078a2",
   "metadata": {},
   "outputs": [],
   "source": [
    "#Preparing the model from rotten tomatoes data set \n",
    "\n",
    "#Steps to follow\n",
    "#Data preparation: Obtain the Rotten Tomatoes dataset and import it into a data analysis tool such as Pandas or Numpy. Preprocess the data by cleaning it, removing any missing values, and transforming it into a suitable format for modeling.\n",
    "\n",
    "#Exploratory data analysis: Explore the data to gain insights into the distribution of the target variable, the relationship between the features, and any other patterns in the data. This can help inform the choice of modeling techniques.\n",
    "\n",
    "#Feature engineering: Extract relevant features from the movie reviews, such as word frequency, sentiment, or n-grams. This can help improve the performance of the model.\n",
    "\n",
    "#Model selection: Select a suitable machine learning algorithm for the task, such as logistic regression, support vector machines, or a neural network. Evaluate the performance of several algorithms and choose the best one based on accuracy and computational efficiency.\n",
    "\n",
    "#Model training: Train the chosen model on the preprocessed data, using techniques such as cross-validation to avoid overfitting and ensure good performance on unseen data.\n",
    "\n",
    "#Model evaluation: Evaluate the performance of the model using metrics such as accuracy, precision, recall, and F1 score. If necessary, fine-tune the model to improve its performance."
   ]
  },
  {
   "cell_type": "code",
   "execution_count": 3,
   "id": "336c8d61",
   "metadata": {},
   "outputs": [],
   "source": [
    "import pandas as pd"
   ]
  },
  {
   "cell_type": "code",
   "execution_count": 4,
   "id": "2fb4adad",
   "metadata": {},
   "outputs": [
    {
     "name": "stdout",
     "output_type": "stream",
     "text": [
      "rotten_tomatoes_link         0\n",
      "critic_name              18529\n",
      "top_critic                   0\n",
      "publisher_name               0\n",
      "review_type                  0\n",
      "review_score            305936\n",
      "review_date                  0\n",
      "review_content           65806\n",
      "dtype: int64\n",
      "79226\n"
     ]
    }
   ],
   "source": [
    "# Load the Rotten Tomatoes dataset from a csv file\n",
    "df = pd.read_csv('rotten_tomatoes_critic_reviews.csv')\n",
    "\n",
    "# Check for missing values\n",
    "print(df.isnull().sum())\n",
    "\n",
    "# Remove rows with missing values\n",
    "df.dropna(inplace=True)\n",
    "\n",
    "# Check for duplicates\n",
    "print(df.duplicated().sum())\n",
    "\n",
    "# Remove duplicates\n",
    "df.drop_duplicates(inplace=True)\n",
    "\n",
    "# Transform the data into a suitable format for modeling\n",
    "df['review_content'] = df['review_content'].apply(lambda x: x.lower()) # convert all text to lowercase\n",
    "df['review_type'] = df['review_type'].astype('category') # convert sentiment to categorical data type\n",
    "\n",
    "# Store the preprocessed data\n",
    "df.to_csv('rotten_tomatoes_reviews_preprocessed.csv', index=False)\n"
   ]
  },
  {
   "cell_type": "code",
   "execution_count": 5,
   "id": "0f02662d",
   "metadata": {},
   "outputs": [],
   "source": [
    "#EDA"
   ]
  },
  {
   "cell_type": "code",
   "execution_count": 6,
   "id": "3edcd61e",
   "metadata": {},
   "outputs": [],
   "source": [
    "#The following first loads the preprocessed Rotten Tomatoes dataset into a Pandas dataframe and calculates some basic statistics about the data. \n",
    "#Then it creates visualizations to help understand the distribution of the target variable (sentiment), the distribution of the review text length, and the relationship between review text length and sentiment. \n",
    "#Finally, it performs a word frequency analysis to identify the 20 most common words in the review text."
   ]
  },
  {
   "cell_type": "code",
   "execution_count": 7,
   "id": "9b1064c6",
   "metadata": {},
   "outputs": [],
   "source": [
    "import matplotlib.pyplot as plt\n",
    "\n",
    "# Load the preprocessed Rotten Tomatoes dataset\n",
    "df = pd.read_csv('rotten_tomatoes_reviews_preprocessed.csv')"
   ]
  },
  {
   "cell_type": "code",
   "execution_count": 8,
   "id": "37702f25",
   "metadata": {},
   "outputs": [
    {
     "name": "stdout",
     "output_type": "stream",
     "text": [
      "Fresh     429354\n",
      "Rotten    244154\n",
      "Name: review_type, dtype: int64\n"
     ]
    },
    {
     "data": {
      "image/png": "[encoded data removed]",
      "text/plain": [
       "<Figure size 432x288 with 1 Axes>"
      ]
     },
     "metadata": {
      "needs_background": "light"
     },
     "output_type": "display_data"
    }
   ],
   "source": [
    "# Distribution of sentiment labels\n",
    "sentiment_counts = df['review_type'].value_counts()\n",
    "print(sentiment_counts)\n",
    "sentiment_counts.plot(kind='bar', title='Distribution of Sentiment Labels')\n",
    "plt.show()"
   ]
  },
  {
   "cell_type": "code",
   "execution_count": 9,
   "id": "be2075e4",
   "metadata": {},
   "outputs": [
    {
     "data": {
      "image/png": "[encoded data removed]",
      "text/plain": [
       "<Figure size 432x288 with 1 Axes>"
      ]
     },
     "metadata": {
      "needs_background": "light"
     },
     "output_type": "display_data"
    }
   ],
   "source": [
    "# Distribution of review text length\n",
    "review_lengths = df['review_content'].apply(len)\n",
    "review_lengths.plot(kind='hist', title='Distribution of Review Text Length')\n",
    "plt.show()"
   ]
  },
  {
   "cell_type": "code",
   "execution_count": 10,
   "id": "aea4bfb1",
   "metadata": {},
   "outputs": [
    {
     "data": {
      "image/png": "[encoded data removed]",
      "text/plain": [
       "<Figure size 432x288 with 1 Axes>"
      ]
     },
     "metadata": {
      "needs_background": "light"
     },
     "output_type": "display_data"
    }
   ],
   "source": [
    "# Correlation between review text length and sentiment\n",
    "review_lengths_by_sentiment = df.groupby('review_type')['review_content'].apply(len)\n",
    "review_lengths_by_sentiment.plot(kind='bar', title='Correlation between Review Text Length and Sentiment')\n",
    "plt.show()"
   ]
  },
  {
   "cell_type": "code",
   "execution_count": 11,
   "id": "5cc0fd89",
   "metadata": {},
   "outputs": [],
   "source": [
    "# Word frequency analysis\n",
    "from collections import Counter\n",
    "\n"
   ]
  },
  {
   "cell_type": "code",
   "execution_count": 12,
   "id": "2a1e2241",
   "metadata": {},
   "outputs": [
    {
     "name": "stdout",
     "output_type": "stream",
     "text": [
      "[('the', 729953), ('a', 522000), ('and', 435535), ('of', 423834), ('to', 301733), ('is', 255572), ('in', 197604), ('that', 164387), ('it', 153551), ('as', 125953), ('but', 124945), ('with', 122294), ('for', 107926), ('this', 106612), (\"it's\", 91789), ('an', 87117), ('its', 84122), ('film', 78874), ('on', 68669), ('be', 64667)]\n"
     ]
    }
   ],
   "source": [
    "\n",
    "# Word frequency analysis\n",
    "review_words = [word for review in df['review_content'].str.split() for word in review]\n",
    "word_counts = Counter(review_words)\n",
    "most_common_words = word_counts.most_common(20)\n",
    "print(most_common_words)\n"
   ]
  },
  {
   "cell_type": "code",
   "execution_count": 13,
   "id": "175bf951",
   "metadata": {},
   "outputs": [],
   "source": [
    "#Feature engineering\n",
    "import nltk"
   ]
  },
  {
   "cell_type": "code",
   "execution_count": 14,
   "id": "684bc52b",
   "metadata": {},
   "outputs": [],
   "source": [
    "from nltk.corpus import stopwords\n",
    "from nltk.stem import SnowballStemmer\n",
    "from sklearn.feature_extraction.text import TfidfVectorizer"
   ]
  },
  {
   "cell_type": "code",
   "execution_count": 23,
   "id": "b300b10e",
   "metadata": {},
   "outputs": [],
   "source": [
    "# Load the preprocessed Rotten Tomatoes dataset\n",
    "df = pd.read_csv('rotten_tomatoes_reviews_preprocessed.csv')\n",
    "\n",
    "# Text normalization\n",
    "stop_words = set(stopwords.words(\"english\"))\n",
    "stemmer = SnowballStemmer(\"english\")\n",
    "def normalize_text(text):\n",
    "    text = text.lower() # Convert to lowercase\n",
    "    text = [stemmer.stem(word) for word in text.split() if word not in stop_words] # Stemming and removing stop words\n",
    "    return \" \".join(text)\n",
    "df['review_content'] = df['review_content'].apply(normalize_text)\n",
    "\n",
    "# TF-IDF\n",
    "vectorizer = TfidfVectorizer(ngram_range=(1,2), max_df=0.5)\n",
    "reviews_tfidf = vectorizer.fit_transform(df['review_content'])\n",
    "\n",
    "# Sentiment analysis\n",
    "from sklearn.preprocessing import LabelEncoder\n",
    "encoder = LabelEncoder()\n",
    "df['review_type'] = encoder.fit_transform(df['review_type'])\n"
   ]
  },
  {
   "cell_type": "code",
   "execution_count": 16,
   "id": "2b01b0ba",
   "metadata": {},
   "outputs": [],
   "source": [
    "#spliting the dataset"
   ]
  },
  {
   "cell_type": "code",
   "execution_count": 17,
   "id": "ac693ee9",
   "metadata": {},
   "outputs": [],
   "source": [
    "\n",
    "from sklearn.model_selection import train_test_split\n",
    "\n",
    "# Extract the feature engineered data and target variable\n",
    "X = df.drop('review_type', axis=1)\n",
    "y = df['review_type']\n",
    "\n",
    "# Split the data into training and testing sets\n",
    "X_train, X_test, y_train, y_test = train_test_split(X, y, test_size=0.2, random_state=0)\n"
   ]
  },
  {
   "cell_type": "code",
   "execution_count": 18,
   "id": "c11a0c2e",
   "metadata": {},
   "outputs": [],
   "source": [
    "## training and evaluating several ML algorithms"
   ]
  },
  {
   "cell_type": "code",
   "execution_count": 19,
   "id": "6c48272a",
   "metadata": {},
   "outputs": [
    {
     "name": "stdout",
     "output_type": "stream",
     "text": [
      "Accuracy of logistic regression model: 0.792089204317679\n"
     ]
    }
   ],
   "source": [
    "from sklearn.feature_extraction.text import CountVectorizer\n",
    "from sklearn.linear_model import LogisticRegression\n",
    "from sklearn.svm import SVC\n",
    "from sklearn.metrics import accuracy_score, confusion_matrix\n",
    "\n",
    "# Prepare the data for modeling\n",
    "X = df['review_content']\n",
    "y = df['review_type']\n",
    "\n",
    "# Split the data into training and test sets\n",
    "X_train, X_test, y_train, y_test = train_test_split(X, y, test_size=0.2, random_state=0)\n",
    "\n",
    "# Vectorize the text data using CountVectorizer\n",
    "vectorizer = CountVectorizer(stop_words='english')\n",
    "X_train = vectorizer.fit_transform(X_train)\n",
    "X_test = vectorizer.transform(X_test)\n",
    "\n",
    "# Train a logistic regression model\n",
    "log_reg = LogisticRegression(solver='lbfgs', max_iter=1000)\n",
    "log_reg.fit(X_train, y_train)\n",
    "\n",
    "# Make predictions on the test data\n",
    "y_pred_log_reg = log_reg.predict(X_test)\n",
    "\n",
    "# Evaluate the accuracy of the logistic regression model\n",
    "accuracy_log_reg = accuracy_score(y_test, y_pred_log_reg)\n",
    "print(\"Accuracy of logistic regression model:\", accuracy_log_reg)\n",
    "\n",
    "\n"
   ]
  },
  {
   "cell_type": "code",
   "execution_count": 20,
   "id": "9589dd55",
   "metadata": {},
   "outputs": [],
   "source": [
    "# Train a support vector machine model\n",
    "##svm = SVC(kernel='linear')\n",
    "#svm.fit(X_train, y_train)\n",
    "\n",
    "# Make predictions on the test data\n",
    "#y_pred_svm = svm.predict(X_test)\n",
    "\n",
    "# Evaluate the accuracy of the SVM model\n",
    "#accuracy_svm = accuracy_score(y_test, y_pred_svm)\n",
    "#print(\"Accuracy of SVM model:\", accuracy_svm)"
   ]
  },
  {
   "cell_type": "code",
   "execution_count": 21,
   "id": "00a8784a",
   "metadata": {},
   "outputs": [],
   "source": [
    "#from sklearn.model_selection import GridSearchCV\n",
    "\n",
    "# Define the range of hyperparameters to search\n",
    "#param_grid = {'C': [0.1, 1, 10, 100], 'kernel': ['linear', 'rbf']}\n",
    "\n",
    "# Train the SVM model with cross-validation\n",
    "#svm = SVC()\n",
    "#grid_search = GridSearchCV(svm, param_grid, cv=5)\n",
    "#grid_search.fit(X_train, y_train)\n",
    "\n",
    "# Use the best hyperparameters found by the grid search\n",
    "#best_svm = grid_search.best_estimator_\n",
    "\n",
    "# Make predictions on the test data\n",
    "#y_pred_svm = best_svm.predict(X_test)\n",
    "\n",
    "# Evaluate the accuracy of the SVM model\n",
    "#accuracy_svm = accuracy_score(y_test, y_pred_svm)\n",
    "#print(\"Accuracy of SVM model:\", accuracy_svm)\n"
   ]
  },
  {
   "cell_type": "code",
   "execution_count": 25,
   "id": "7d1b2536",
   "metadata": {},
   "outputs": [
    {
     "name": "stdout",
     "output_type": "stream",
     "text": [
      "  rotten_tomatoes_link       critic_name  top_critic           publisher_name  \\\n",
      "0            m/0814255      Ben McEachen       False  Sunday Mail (Australia)   \n",
      "1            m/0814255      Nick Schager       False           Slant Magazine   \n",
      "2            m/0814255  Bill Goodykoontz        True         Arizona Republic   \n",
      "3            m/0814255    Jordan Hoffman       False                      UGO   \n",
      "4            m/0814255      Jim Schembri        True      The Age (Australia)   \n",
      "\n",
      "   review_type review_score review_date  \\\n",
      "0            0        3.5/5  2010-02-09   \n",
      "1            1          1/4  2010-02-10   \n",
      "2            0        3.5/5  2010-02-10   \n",
      "3            0            B  2010-02-10   \n",
      "4            0          3/5  2010-02-10   \n",
      "\n",
      "                                      review_content  \n",
      "0  whether audienc get behind lightn thief hard p...  \n",
      "1  harri potter knockoff come transpar slapdash w...  \n",
      "2  perci jackson great movie, good one, trot kern...  \n",
      "3                                  fun, brisk imagin  \n",
      "4  cram dragons, set-destroy fight thing explodin...  \n"
     ]
    }
   ],
   "source": [
    "print(df.head())"
   ]
  },
  {
   "cell_type": "code",
   "execution_count": 30,
   "id": "1a8f643f",
   "metadata": {},
   "outputs": [
    {
     "name": "stdout",
     "output_type": "stream",
     "text": [
      "Accuracy of decision tree model: 0.6894181229677362\n"
     ]
    }
   ],
   "source": [
    "\n",
    "from sklearn.tree import DecisionTreeClassifier\n",
    "from sklearn.ensemble import RandomForestClassifier\n",
    "from sklearn.neural_network import MLPClassifier\n",
    "from sklearn.metrics import accuracy_score, confusion_matrix\n",
    "\n",
    "# Load the preprocessed Rotten Tomatoes dataset\n",
    "#df = pd.read_csv('rotten_tomatoes_reviews_preprocessed.csv')\n",
    "\n",
    "# Prepare the data for modeling\n",
    "X = df['review_content']\n",
    "y = df['review_type']\n",
    "\n",
    "\n",
    "# Split the data into training and test sets\n",
    "X_train, X_test, y_train, y_test = train_test_split(X, y, test_size=0.2, random_state=0)\n",
    "\n",
    "# Vectorize the text data using CountVectorizer\n",
    "vectorizer = CountVectorizer(stop_words='english')\n",
    "X_train = vectorizer.fit_transform(X_train)\n",
    "X_test = vectorizer.transform(X_test)\n",
    "\n",
    "\n",
    "# Train a decision tree model\n",
    "dt = DecisionTreeClassifier()\n",
    "dt.fit(X_train, y_train)\n",
    "\n",
    "# Make predictions on the test data\n",
    "y_pred_dt = dt.predict(X_test)\n",
    "\n",
    "# Evaluate the accuracy of the decision tree model\n",
    "accuracy_dt = accuracy_score(y_test, y_pred_dt)\n",
    "print(\"Accuracy of decision tree model:\", accuracy_dt)\n",
    "\n"
   ]
  },
  {
   "cell_type": "code",
   "execution_count": 31,
   "id": "b2fc8753",
   "metadata": {},
   "outputs": [
    {
     "name": "stdout",
     "output_type": "stream",
     "text": [
      "Accuracy of random forest model: 0.7634333565945569\n"
     ]
    }
   ],
   "source": [
    "# Train a random forest model\n",
    "rf = RandomForestClassifier()\n",
    "rf.fit(X_train, y_train)\n",
    "\n",
    "# Make predictions on the test data\n",
    "y_pred_rf = rf.predict(X_test)\n",
    "\n",
    "# Evaluate the accuracy of the random forest model\n",
    "accuracy_rf = accuracy_score(y_test, y_pred_rf)\n",
    "print(\"Accuracy of random forest model:\", accuracy_rf)\n"
   ]
  },
  {
   "cell_type": "code",
   "execution_count": 32,
   "id": "b379600e",
   "metadata": {},
   "outputs": [
    {
     "name": "stdout",
     "output_type": "stream",
     "text": [
      "Accuracy of neural network model: 0.7510578907514365\n"
     ]
    }
   ],
   "source": [
    "# Train a simple feedforward neural network\n",
    "mlp = MLPClassifier()\n",
    "mlp.fit(X_train, y_train)\n",
    "\n",
    "# Make predictions on the test data\n",
    "y_pred_mlp = mlp.predict(X_test)\n",
    "\n",
    "# Evaluate the accuracy of the neural network model\n",
    "accuracy_mlp = accuracy_score(y_test, y_pred_mlp)\n",
    "print(\"Accuracy of neural network model:\", accuracy_mlp)"
   ]
  },
  {
   "cell_type": "code",
   "execution_count": 33,
   "id": "6c65978b",
   "metadata": {},
   "outputs": [],
   "source": [
    "## choose the model"
   ]
  },
  {
   "cell_type": "code",
   "execution_count": null,
   "id": "7e97818a",
   "metadata": {},
   "outputs": [],
   "source": []
  },
  {
   "cell_type": "code",
   "execution_count": null,
   "id": "caaf4dff",
   "metadata": {},
   "outputs": [],
   "source": []
  }
 ],
 "metadata": {
  "kernelspec": {
   "display_name": "Python 3 (ipykernel)",
   "language": "python",
   "name": "python3"
  },
  "language_info": {
   "codemirror_mode": {
    "name": "ipython",
    "version": 3
   },
   "file_extension": ".py",
   "mimetype": "text/x-python",
   "name": "python",
   "nbconvert_exporter": "python",
   "pygments_lexer": "ipython3",
   "version": "3.9.12"
  }
 },
 "nbformat": 4,
 "nbformat_minor": 5
}
